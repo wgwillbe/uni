{
 "cells": [
  {
   "cell_type": "code",
   "execution_count": 33,
   "metadata": {},
   "outputs": [],
   "source": [
    "# Iris data 불러오기\n",
    "\n",
    "import seaborn as sns # seaborn을 불러옴.\n",
    "# iris라는 변수명으로 Iris data를 download함.\n",
    "iris=sns.load_dataset('iris')\n",
    "# 'species' 열을 drop하고 특성변수 X를 정의함\n",
    "X=iris.drop('species',axis=1)\n",
    "y=iris['species'] #'species'열을 label y를 정의함.\n",
    "\n",
    "# LabelEncoder() method를 불러옴\n",
    "from sklearn.preprocessing import LabelEncoder\n",
    "classle=LabelEncoder()\n",
    "# species 열의 문자형을 범주형 값으로 전환\n",
    "y=classle.fit_transform(iris['species'].values)\n",
    "\n",
    "from sklearn.model_selection import train_test_split\n",
    "X_train, X_test, y_train, y_test = train_test_split(X,y,\n",
    "            test_size=0.3, random_state=123, stratify=y)\n",
    "\n",
    "from sklearn.preprocessing import StandardScaler\n",
    "sc=StandardScaler()\n",
    "sc.fit(X_train)\n",
    "X_train_std=sc.transform(X_train)\n",
    "X_test_std=sc.transform(X_test)\n"
   ]
  },
  {
   "cell_type": "code",
   "execution_count": 34,
   "metadata": {},
   "outputs": [
    {
     "data": {
      "text/html": [
       "<div>\n",
       "<style scoped>\n",
       "    .dataframe tbody tr th:only-of-type {\n",
       "        vertical-align: middle;\n",
       "    }\n",
       "\n",
       "    .dataframe tbody tr th {\n",
       "        vertical-align: top;\n",
       "    }\n",
       "\n",
       "    .dataframe thead th {\n",
       "        text-align: right;\n",
       "    }\n",
       "</style>\n",
       "<table border=\"1\" class=\"dataframe\">\n",
       "  <thead>\n",
       "    <tr style=\"text-align: right;\">\n",
       "      <th></th>\n",
       "      <th>sepal_length</th>\n",
       "      <th>sepal_width</th>\n",
       "      <th>petal_length</th>\n",
       "      <th>petal_width</th>\n",
       "    </tr>\n",
       "  </thead>\n",
       "  <tbody>\n",
       "    <tr>\n",
       "      <th>0</th>\n",
       "      <td>5.1</td>\n",
       "      <td>3.5</td>\n",
       "      <td>1.4</td>\n",
       "      <td>0.2</td>\n",
       "    </tr>\n",
       "    <tr>\n",
       "      <th>1</th>\n",
       "      <td>4.9</td>\n",
       "      <td>3.0</td>\n",
       "      <td>1.4</td>\n",
       "      <td>0.2</td>\n",
       "    </tr>\n",
       "    <tr>\n",
       "      <th>2</th>\n",
       "      <td>4.7</td>\n",
       "      <td>3.2</td>\n",
       "      <td>1.3</td>\n",
       "      <td>0.2</td>\n",
       "    </tr>\n",
       "    <tr>\n",
       "      <th>3</th>\n",
       "      <td>4.6</td>\n",
       "      <td>3.1</td>\n",
       "      <td>1.5</td>\n",
       "      <td>0.2</td>\n",
       "    </tr>\n",
       "    <tr>\n",
       "      <th>4</th>\n",
       "      <td>5.0</td>\n",
       "      <td>3.6</td>\n",
       "      <td>1.4</td>\n",
       "      <td>0.2</td>\n",
       "    </tr>\n",
       "  </tbody>\n",
       "</table>\n",
       "</div>"
      ],
      "text/plain": [
       "   sepal_length  sepal_width  petal_length  petal_width\n",
       "0           5.1          3.5           1.4          0.2\n",
       "1           4.9          3.0           1.4          0.2\n",
       "2           4.7          3.2           1.3          0.2\n",
       "3           4.6          3.1           1.5          0.2\n",
       "4           5.0          3.6           1.4          0.2"
      ]
     },
     "execution_count": 34,
     "metadata": {},
     "output_type": "execute_result"
    }
   ],
   "source": [
    "X.head()"
   ]
  },
  {
   "cell_type": "code",
   "execution_count": 35,
   "metadata": {},
   "outputs": [
    {
     "name": "stdout",
     "output_type": "stream",
     "text": [
      "0.9714285714285714\n",
      "0.9777777777777777\n"
     ]
    }
   ],
   "source": [
    "# Iris data에 대한 LDA 적합\n",
    "from sklearn.discriminant_analysis import LinearDiscriminantAnalysis\n",
    "cld=LinearDiscriminantAnalysis(store_covariance=True)\n",
    "cld.fit(X_train,y_train) #LDA 적합\n",
    "y_train_pred=cld.predict(X_train)\n",
    "y_test_pred=cld.predict(X_test)\n",
    "\n",
    "from sklearn.metrics import accuracy_score\n",
    "print(accuracy_score(y_train,y_train_pred)) # train data에 대한 accuracy\n",
    "print(accuracy_score(y_test,y_test_pred)) # test data에 대한 accuracy"
   ]
  },
  {
   "cell_type": "code",
   "execution_count": 36,
   "metadata": {},
   "outputs": [
    {
     "name": "stdout",
     "output_type": "stream",
     "text": [
      "[[15  0  0]\n",
      " [ 0 14  1]\n",
      " [ 0  0 15]]\n"
     ]
    }
   ],
   "source": [
    "# 분류 결과\n",
    "from sklearn.metrics import confusion_matrix\n",
    "# 각 행은 setosa, versicolor, virginica\n",
    "print(confusion_matrix(y_test, y_test_pred))"
   ]
  },
  {
   "cell_type": "code",
   "execution_count": 37,
   "metadata": {},
   "outputs": [
    {
     "name": "stdout",
     "output_type": "stream",
     "text": [
      "[[5.04285714 3.43428571 1.48857143 0.26571429]\n",
      " [5.89714286 2.76       4.22857143 1.3       ]\n",
      " [6.51714286 2.92857143 5.49142857 2.00285714]]\n",
      "[5.81904762 3.04095238 3.73619048 1.18952381]\n",
      "[[0.24214422 0.09216599 0.13204898 0.03123537]\n",
      " [0.09216599 0.11137415 0.05049796 0.03388844]\n",
      " [0.13204898 0.05049796 0.15023129 0.03387755]\n",
      " [0.03123537 0.03388844 0.03387755 0.04198639]]\n",
      "[ -7.59067635  -5.09049202 -43.13606185]\n",
      "[[  3.76019999  15.13062424 -17.99406267 -21.86481204]\n",
      " [ -0.91185753  -4.90401617   4.9041086    3.23562397]\n",
      " [ -2.84834246 -10.22660807  13.08995407  18.62918807]]\n"
     ]
    }
   ],
   "source": [
    "print(cld.means_)\n",
    "print(cld.xbar_)\n",
    "print(cld.covariance_)\n",
    "print(cld.intercept_)\n",
    "print(cld.coef_)"
   ]
  },
  {
   "cell_type": "code",
   "execution_count": 38,
   "metadata": {},
   "outputs": [
    {
     "name": "stdout",
     "output_type": "stream",
     "text": [
      "[[1.37493315e-32 5.86839618e-01 4.13160382e-01]\n",
      " [4.87880054e-42 4.08368248e-04 9.99591632e-01]\n",
      " [1.49908347e-19 9.99998532e-01 1.46841688e-06]\n",
      " [2.45317549e-24 9.97417042e-01 2.58295753e-03]\n",
      " [1.76506456e-50 1.80298359e-07 9.99999820e-01]]\n"
     ]
    }
   ],
   "source": [
    "# 분류될 확률\n",
    "print(cld.predict_proba(X_test[:5]))"
   ]
  },
  {
   "cell_type": "code",
   "execution_count": 39,
   "metadata": {},
   "outputs": [
    {
     "name": "stdout",
     "output_type": "stream",
     "text": [
      "0.9809523809523809\n",
      "0.9777777777777777\n"
     ]
    }
   ],
   "source": [
    "from sklearn.discriminant_analysis import QuadraticDiscriminantAnalysis\n",
    "cqd=QuadraticDiscriminantAnalysis(store_covariance=True)\n",
    "\n",
    "cqd.fit(X_train, y_train) #QDA 적합\n",
    "y_train_pred=cqd.predict(X_train)\n",
    "y_test_pred=cqd.predict(X_test)\n",
    "\n",
    "from sklearn.metrics import accuracy_score\n",
    "print(accuracy_score(y_train, y_train_pred)) # train data에 대한 accuracy\n",
    "print(accuracy_score(y_test, y_test_pred)) # test data에 대한 accuracy"
   ]
  },
  {
   "cell_type": "code",
   "execution_count": 40,
   "metadata": {},
   "outputs": [
    {
     "name": "stdout",
     "output_type": "stream",
     "text": [
      "[[5.04285714 3.43428571 1.48857143 0.26571429]\n",
      " [5.89714286 2.76       4.22857143 1.3       ]\n",
      " [6.51714286 2.92857143 5.49142857 2.00285714]]\n",
      "[array([[0.13605042, 0.11084034, 0.0105042 , 0.01239496],\n",
      "       [0.11084034, 0.14467227, 0.01716807, 0.01444538],\n",
      "       [0.0105042 , 0.01716807, 0.03280672, 0.0072437 ],\n",
      "       [0.01239496, 0.01444538, 0.0072437 , 0.01290756]]), array([[0.22793277, 0.07635294, 0.13596639, 0.03647059],\n",
      "       [0.07635294, 0.09364706, 0.07852941, 0.04058824],\n",
      "       [0.13596639, 0.07852941, 0.18268908, 0.06      ],\n",
      "       [0.03647059, 0.04058824, 0.06      , 0.03647059]]), array([[0.38381513, 0.09743697, 0.26132773, 0.04759664],\n",
      "       [0.09743697, 0.10563025, 0.0602521 , 0.04962185],\n",
      "       [0.26132773, 0.0602521 , 0.24845378, 0.03737815],\n",
      "       [0.04759664, 0.04962185, 0.03737815, 0.08028571]])]\n"
     ]
    }
   ],
   "source": [
    "print(cqd.means_)\n",
    "print(cqd.covariance_)"
   ]
  },
  {
   "cell_type": "code",
   "execution_count": 41,
   "metadata": {},
   "outputs": [
    {
     "name": "stdout",
     "output_type": "stream",
     "text": [
      "[[15  0  0]\n",
      " [ 0 14  1]\n",
      " [ 0  0 15]]\n"
     ]
    }
   ],
   "source": [
    "# 분류 결과\n",
    "from sklearn.metrics import confusion_matrix\n",
    "print(confusion_matrix(y_test, y_test_pred))"
   ]
  },
  {
   "cell_type": "code",
   "execution_count": 42,
   "metadata": {},
   "outputs": [
    {
     "name": "stdout",
     "output_type": "stream",
     "text": [
      "[[1 3 0 3 3 2 4 3 2 2 4 4 2 4 1 4 4 1 3 1]\n",
      " [0 4 1 1 2 2 2 2 3 4 4 4 1 4 0 3 2 3 2 1]\n",
      " [3 0 4 0 1 2 0 0 2 1 3 1 4 1 0 1 0 3 2 0]\n",
      " [3 0 2 2 4 1 3 1 3 1 3 3 3 0 2 3 3 1 4 3]\n",
      " [1 1 0 3 4 3 1 4 4 1 4 0 1 1 0 0 0 0 0 3]\n",
      " [4 0 0 1 1 0 3 3 0 0 0 1 1 4 4 3 1 3 4 1]]\n"
     ]
    }
   ],
   "source": [
    "# 다항베이즈 모형\n",
    "# Data 생성\n",
    "import numpy as np\n",
    "X=np.random.randint(5, size=(6,20)) # 0~4로 이뤄진 6 by 20 행렬\n",
    "y=np.array([1,2,3,4,5,6])\n",
    "print(X)"
   ]
  },
  {
   "cell_type": "code",
   "execution_count": 43,
   "metadata": {},
   "outputs": [
    {
     "name": "stdout",
     "output_type": "stream",
     "text": [
      "[2]\n"
     ]
    }
   ],
   "source": [
    "from sklearn.naive_bayes import MultinomialNB\n",
    "mnb=MultinomialNB()\n",
    "mnb.fit(X,y)\n",
    "print(mnb.predict(X[1:2,]))"
   ]
  },
  {
   "cell_type": "code",
   "execution_count": 44,
   "metadata": {},
   "outputs": [
    {
     "name": "stdout",
     "output_type": "stream",
     "text": [
      "(1797, 8, 8)\n"
     ]
    }
   ],
   "source": [
    "# 1797명이 쓴 0~9를 식별\n",
    "from sklearn.datasets import load_digits\n",
    "digits=load_digits()\n",
    "print(digits.images.shape) # 8 by 8 pixel로 이루어짐"
   ]
  },
  {
   "cell_type": "code",
   "execution_count": 45,
   "metadata": {},
   "outputs": [
    {
     "data": {
      "image/png": "[encoded data removed]",
      "text/plain": [
       "<Figure size 1800x800 with 100 Axes>"
      ]
     },
     "metadata": {},
     "output_type": "display_data"
    }
   ],
   "source": [
    "# 정규단순베이즈모형\n",
    "# 구체적인 글씨 형태\n",
    "import matplotlib.pyplot as plt\n",
    "fig, axes=plt.subplots(10,10,figsize=(18,8),\n",
    "                       subplot_kw={'xticks':[],'yticks':[]},\n",
    "                       gridspec_kw=dict(hspace=0.1, wspace=0.1))\n",
    "for i, ax in enumerate(axes.flat):\n",
    "    ax.imshow(digits.images[i], cmap='binary',\n",
    "              interpolation='nearest')\n",
    "    ax.text(0.05,0.05, str(digits.target[i]),\n",
    "            transform=ax.transAxes, color='green')"
   ]
  },
  {
   "cell_type": "code",
   "execution_count": 46,
   "metadata": {},
   "outputs": [
    {
     "name": "stdout",
     "output_type": "stream",
     "text": [
      "(1797, 64)\n",
      "(1797,)\n"
     ]
    }
   ],
   "source": [
    "X=digits.data\n",
    "y=digits.target\n",
    "print(X.shape)\n",
    "print(y.shape)"
   ]
  },
  {
   "cell_type": "code",
   "execution_count": 47,
   "metadata": {},
   "outputs": [
    {
     "name": "stdout",
     "output_type": "stream",
     "text": [
      "0.8333333333333334\n"
     ]
    }
   ],
   "source": [
    "# 손글씨 데이터에 대한 정규단순베이즈모형 적합\n",
    "from sklearn.model_selection import train_test_split\n",
    "X_train, X_test, y_train, y_test=train_test_split(X,y,\n",
    "                        test_size=0.25, random_state=0)\n",
    "\n",
    "from sklearn.naive_bayes import GaussianNB\n",
    "gnb=GaussianNB()\n",
    "gnb.fit(X_train, y_train)\n",
    "y_test_pred=gnb.predict(X_test)\n",
    "\n",
    "from sklearn.metrics import accuracy_score\n",
    "print(accuracy_score(y_test, y_test_pred))"
   ]
  },
  {
   "cell_type": "code",
   "execution_count": 48,
   "metadata": {},
   "outputs": [
    {
     "name": "stdout",
     "output_type": "stream",
     "text": [
      "[[37  0  0  0  0  0  0  0  0  0]\n",
      " [ 0 39  0  0  0  0  0  0  4  0]\n",
      " [ 0  7 20  2  0  0  0  0 15  0]\n",
      " [ 0  0  0 39  0  0  0  1  5  0]\n",
      " [ 0  1  0  0 31  0  0  6  0  0]\n",
      " [ 0  1  0  1  0 43  0  3  0  0]\n",
      " [ 0  0  1  0  0  0 51  0  0  0]\n",
      " [ 0  0  0  0  1  0  0 47  0  0]\n",
      " [ 0  6  0  1  0  1  0  2 38  0]\n",
      " [ 0  2  0  4  1  0  0  3  7 30]]\n"
     ]
    }
   ],
   "source": [
    "# 분류 결과\n",
    "from sklearn.metrics import confusion_matrix\n",
    "mat=confusion_matrix(y_test, y_test_pred)\n",
    "print(mat)\n",
    "#import seaborn as sns\n",
    "#sns.heatmap(mat, square=True, annot=True, cbar=False)\n",
    "#plt.xlabel('predicted')\n",
    "#plt.ylabel('True values')"
   ]
  }
 ],
 "metadata": {
  "kernelspec": {
   "display_name": "base",
   "language": "python",
   "name": "python3"
  },
  "language_info": {
   "codemirror_mode": {
    "name": "ipython",
    "version": 3
   },
   "file_extension": ".py",
   "mimetype": "text/x-python",
   "name": "python",
   "nbconvert_exporter": "python",
   "pygments_lexer": "ipython3",
   "version": "3.9.13"
  },
  "orig_nbformat": 4,
  "vscode": {
   "interpreter": {
    "hash": "a077222d77dfe082b8f1dd562ad70e458ac2ab76993a0b248ab0476e32e9e8dd"
   }
  }
 },
 "nbformat": 4,
 "nbformat_minor": 2
}
