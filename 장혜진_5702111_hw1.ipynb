{
 "cells": [
  {
   "cell_type": "code",
   "execution_count": 3,
   "metadata": {},
   "outputs": [
    {
     "name": "stdout",
     "output_type": "stream",
     "text": [
      "[[ 0.  1.  0.  0. 12.]\n",
      " [ 0.  0.  0.  1. 10.]\n",
      " [ 1.  0.  0.  0. 15.]\n",
      " [ 0.  0.  1.  0.  9.]]\n",
      "  (0, 1)\t1.0\n",
      "  (0, 4)\t12.0\n",
      "  (1, 3)\t1.0\n",
      "  (1, 4)\t10.0\n",
      "  (2, 0)\t1.0\n",
      "  (2, 4)\t15.0\n",
      "  (3, 2)\t1.0\n",
      "  (3, 4)\t9.0\n",
      "['city=Busan', 'city=Daegu', 'city=Incheon', 'city=Seoul', 'temp']\n"
     ]
    }
   ],
   "source": [
    "#1\n",
    "from sklearn.feature_extraction import DictVectorizer\n",
    "x = [{'city' : 'Daegu','temp':12},\n",
    "     {'city' : 'Seoul','temp':10},\n",
    "     {'city' : 'Busan','temp':15},\n",
    "     {'city' : 'Incheon','temp':9}]\n",
    "vec = DictVectorizer(sparse=False)\n",
    "x1 = vec.fit_transform(x)\n",
    "vec = DictVectorizer(sparse=True)\n",
    "x2 = vec.fit_transform(x)\n",
    "print(x1)\n",
    "print(x2)\n",
    "print(vec.get_feature_names())"
   ]
  },
  {
   "cell_type": "code",
   "execution_count": 45,
   "metadata": {},
   "outputs": [
    {
     "name": "stdout",
     "output_type": "stream",
     "text": [
      "      a    b     c     d\n",
      "0     1    2     3  None\n",
      "1     5  NaN     7     6\n",
      "2  None    2     9     1\n",
      "3     5  NaN     3     2\n",
      "4     2    6  None     6\n",
      "   a  b  c  d\n",
      "0  1  2  3  6\n",
      "1  5  2  7  6\n",
      "2  5  2  9  1\n",
      "3  5  2  3  2\n",
      "4  2  6  3  6\n"
     ]
    }
   ],
   "source": [
    "#2\n",
    "import numpy as np\n",
    "import pandas as pd\n",
    "x_miss = np.array([[1,2,3,None],[5,np.NaN,7,6],\n",
    "                  [None,2,9,1],[5,np.NaN,3,2],[2,6,None,6]])\n",
    "x_m = pd.DataFrame(x_miss, columns=list('abcd'))\n",
    "print(x_m)\n",
    "for col in x_m.columns:\n",
    "    x_m[col] = x_m[col].fillna(x_m[col].mode()[0])\n",
    "print(x_m)"
   ]
  },
  {
   "cell_type": "code",
   "execution_count": 33,
   "metadata": {},
   "outputs": [
    {
     "name": "stdout",
     "output_type": "stream",
     "text": [
      "      a    b     c     d\n",
      "0     1    2     3  None\n",
      "1     5  NaN     7     6\n",
      "2  None    2     9     1\n",
      "3     5  NaN     3     2\n",
      "4     2    5  None     6\n",
      "      a    b    c     d\n",
      "0  1.00  2.0  3.0  3.75\n",
      "1  5.00  3.0  7.0  6.00\n",
      "2  3.25  2.0  9.0  1.00\n",
      "3  5.00  3.0  3.0  2.00\n",
      "4  2.00  5.0  5.5  6.00\n"
     ]
    }
   ],
   "source": [
    "#3\n",
    "import numpy as np\n",
    "import pandas as pd\n",
    "from sklearn.impute import SimpleImputer\n",
    "x_miss = np.array([[1,2,3,None],[5,np.NaN,7,6],\n",
    "                  [None,2,9,1],[5,np.NaN,3,2],[2,5,None,6]])\n",
    "x_m = pd.DataFrame(x_miss, columns=list('abcd'))\n",
    "print(x_m)\n",
    "im = SimpleImputer(strategy='mean')\n",
    "x_m = im.fit_transform(x_miss)\n",
    "x_m = pd.DataFrame(x_m,columns=list('abcd'))\n",
    "print(x_m)"
   ]
  },
  {
   "cell_type": "code",
   "execution_count": 39,
   "metadata": {},
   "outputs": [
    {
     "name": "stdout",
     "output_type": "stream",
     "text": [
      "Original dataset shape Counter({2: 1685, 1: 145, 3: 105, 0: 65})\n",
      "Resampled dataset shape from SMOTE Counter({2: 1685, 1: 1685, 0: 1685, 3: 1685})\n",
      "Resampled dataset shape from ADASYN Counter({1: 1703, 0: 1687, 2: 1685, 3: 1682})\n"
     ]
    }
   ],
   "source": [
    "#4\n",
    "from collections import Counter\n",
    "from sklearn.datasets import make_classification\n",
    "from imblearn.over_sampling import SMOTE, ADASYN\n",
    "X, y = make_classification(n_classes=4,\n",
    "                           weights=[0.03,0.07,0.85,0.05], n_features=10,\n",
    "                           n_clusters_per_class=1, n_samples=2000, random_state=10)\n",
    "print('Original dataset shape %s' % Counter(y))\n",
    "sm = SMOTE(random_state=42)\n",
    "X_res,y_res = sm.fit_resample(X,y)\n",
    "print('Resampled dataset shape from SMOTE %s' % Counter(y_res))\n",
    "ada = ADASYN(random_state=0)\n",
    "X_syn, y_syn = ada.fit_resample(X,y)\n",
    "print('Resampled dataset shape from ADASYN %s' % Counter(y_syn))"
   ]
  },
  {
   "cell_type": "code",
   "execution_count": 44,
   "metadata": {},
   "outputs": [
    {
     "name": "stdout",
     "output_type": "stream",
     "text": [
      "[5 3 6 1 2 4]\n",
      "[5.1 2.8 6.2 1.1 1.7 3.9]\n",
      "MSE = 0.033333\n"
     ]
    }
   ],
   "source": [
    "#5\n",
    "import numpy as np\n",
    "y = np.array([5,3,6,1,2,4])\n",
    "print(y)\n",
    "y1 = y + np.array([0.1,-0.2,0.2,0.1,-0.3,-0.1])\n",
    "print(y1)\n",
    "MSE = np.square(np.subtract(y,y1)).mean()\n",
    "print('MSE = %f' % MSE)"
   ]
  },
  {
   "cell_type": "code",
   "execution_count": 67,
   "metadata": {},
   "outputs": [
    {
     "name": "stdout",
     "output_type": "stream",
     "text": [
      "[0 0 1 0 1 1]\n",
      "[0.1 0.2 0.9 0.1 0.8 0.7]\n",
      "BE = 1.119044\n"
     ]
    }
   ],
   "source": [
    "#6\n",
    "import numpy as np\n",
    "y = np.array([0,0,1,0,1,1])\n",
    "p = np.array([0.1,0.2,0.9,0.1,0.8,0.7])\n",
    "print(y)\n",
    "print(p)\n",
    "BE = -(y*np.log(p)+(1-y)*np.log(1-p)).sum()\n",
    "print('BE = %f' % BE)"
   ]
  },
  {
   "cell_type": "code",
   "execution_count": 69,
   "metadata": {},
   "outputs": [
    {
     "data": {
      "text/html": [
       "<div>\n",
       "<style scoped>\n",
       "    .dataframe tbody tr th:only-of-type {\n",
       "        vertical-align: middle;\n",
       "    }\n",
       "\n",
       "    .dataframe tbody tr th {\n",
       "        vertical-align: top;\n",
       "    }\n",
       "\n",
       "    .dataframe thead th {\n",
       "        text-align: right;\n",
       "    }\n",
       "</style>\n",
       "<table border=\"1\" class=\"dataframe\">\n",
       "  <thead>\n",
       "    <tr style=\"text-align: right;\">\n",
       "      <th></th>\n",
       "      <th>sepal_length</th>\n",
       "      <th>sepal_width</th>\n",
       "      <th>petal_length</th>\n",
       "      <th>petal_width</th>\n",
       "      <th>species</th>\n",
       "      <th>species_id</th>\n",
       "    </tr>\n",
       "  </thead>\n",
       "  <tbody>\n",
       "    <tr>\n",
       "      <th>0</th>\n",
       "      <td>5.1</td>\n",
       "      <td>3.5</td>\n",
       "      <td>1.4</td>\n",
       "      <td>0.2</td>\n",
       "      <td>setosa</td>\n",
       "      <td>1</td>\n",
       "    </tr>\n",
       "    <tr>\n",
       "      <th>1</th>\n",
       "      <td>4.9</td>\n",
       "      <td>3.0</td>\n",
       "      <td>1.4</td>\n",
       "      <td>0.2</td>\n",
       "      <td>setosa</td>\n",
       "      <td>1</td>\n",
       "    </tr>\n",
       "    <tr>\n",
       "      <th>2</th>\n",
       "      <td>4.7</td>\n",
       "      <td>3.2</td>\n",
       "      <td>1.3</td>\n",
       "      <td>0.2</td>\n",
       "      <td>setosa</td>\n",
       "      <td>1</td>\n",
       "    </tr>\n",
       "    <tr>\n",
       "      <th>3</th>\n",
       "      <td>4.6</td>\n",
       "      <td>3.1</td>\n",
       "      <td>1.5</td>\n",
       "      <td>0.2</td>\n",
       "      <td>setosa</td>\n",
       "      <td>1</td>\n",
       "    </tr>\n",
       "    <tr>\n",
       "      <th>4</th>\n",
       "      <td>5.0</td>\n",
       "      <td>3.6</td>\n",
       "      <td>1.4</td>\n",
       "      <td>0.2</td>\n",
       "      <td>setosa</td>\n",
       "      <td>1</td>\n",
       "    </tr>\n",
       "  </tbody>\n",
       "</table>\n",
       "</div>"
      ],
      "text/plain": [
       "   sepal_length  sepal_width  petal_length  petal_width species  species_id\n",
       "0           5.1          3.5           1.4          0.2  setosa           1\n",
       "1           4.9          3.0           1.4          0.2  setosa           1\n",
       "2           4.7          3.2           1.3          0.2  setosa           1\n",
       "3           4.6          3.1           1.5          0.2  setosa           1\n",
       "4           5.0          3.6           1.4          0.2  setosa           1"
      ]
     },
     "execution_count": 69,
     "metadata": {},
     "output_type": "execute_result"
    }
   ],
   "source": [
    "#7\n",
    "import plotly.express as px\n",
    "iris_df = px.data.iris()\n",
    "iris_df.head()"
   ]
  },
  {
   "cell_type": "code",
   "execution_count": 76,
   "metadata": {},
   "outputs": [
    {
     "ename": "ValueError",
     "evalue": "Plotly Express cannot process wide-form data with columns of different type.",
     "output_type": "error",
     "traceback": [
      "\u001b[1;31m---------------------------------------------------------------------------\u001b[0m",
      "\u001b[1;31mValueError\u001b[0m                                Traceback (most recent call last)",
      "\u001b[1;32m~\\AppData\\Local\\Temp\\ipykernel_20580\\1975905605.py\u001b[0m in \u001b[0;36m<module>\u001b[1;34m\u001b[0m\n\u001b[0;32m      4\u001b[0m \u001b[1;32mfor\u001b[0m \u001b[0mi\u001b[0m \u001b[1;32min\u001b[0m \u001b[0mrange\u001b[0m\u001b[1;33m(\u001b[0m\u001b[1;36m3\u001b[0m\u001b[1;33m)\u001b[0m\u001b[1;33m:\u001b[0m\u001b[1;33m\u001b[0m\u001b[1;33m\u001b[0m\u001b[0m\n\u001b[0;32m      5\u001b[0m     \u001b[1;32mfor\u001b[0m \u001b[0mj\u001b[0m \u001b[1;32min\u001b[0m \u001b[0mrange\u001b[0m\u001b[1;33m(\u001b[0m\u001b[1;36m0\u001b[0m\u001b[1;33m,\u001b[0m\u001b[1;36m4\u001b[0m\u001b[1;33m)\u001b[0m\u001b[1;33m:\u001b[0m\u001b[1;33m\u001b[0m\u001b[1;33m\u001b[0m\u001b[0m\n\u001b[1;32m----> 6\u001b[1;33m         fig = px.scatter(iris_df, x='sepal_length', y=iris_df.columns,\n\u001b[0m\u001b[0;32m      7\u001b[0m                          color='species', title='Scatter Plot')\n\u001b[0;32m      8\u001b[0m         \u001b[0mfig\u001b[0m\u001b[1;33m.\u001b[0m\u001b[0mshow\u001b[0m\u001b[1;33m(\u001b[0m\u001b[1;33m)\u001b[0m\u001b[1;33m\u001b[0m\u001b[1;33m\u001b[0m\u001b[0m\n",
      "\u001b[1;32mc:\\Users\\user\\anaconda3\\lib\\site-packages\\plotly\\express\\_chart_types.py\u001b[0m in \u001b[0;36mscatter\u001b[1;34m(data_frame, x, y, color, symbol, size, hover_name, hover_data, custom_data, text, facet_row, facet_col, facet_col_wrap, facet_row_spacing, facet_col_spacing, error_x, error_x_minus, error_y, error_y_minus, animation_frame, animation_group, category_orders, labels, orientation, color_discrete_sequence, color_discrete_map, color_continuous_scale, range_color, color_continuous_midpoint, symbol_sequence, symbol_map, opacity, size_max, marginal_x, marginal_y, trendline, trendline_options, trendline_color_override, trendline_scope, log_x, log_y, range_x, range_y, render_mode, title, template, width, height)\u001b[0m\n\u001b[0;32m     64\u001b[0m     \u001b[0mmark\u001b[0m \u001b[1;32min\u001b[0m \u001b[1;36m2\u001b[0m\u001b[0mD\u001b[0m \u001b[0mspace\u001b[0m\u001b[1;33m.\u001b[0m\u001b[1;33m\u001b[0m\u001b[1;33m\u001b[0m\u001b[0m\n\u001b[0;32m     65\u001b[0m     \"\"\"\n\u001b[1;32m---> 66\u001b[1;33m     \u001b[1;32mreturn\u001b[0m \u001b[0mmake_figure\u001b[0m\u001b[1;33m(\u001b[0m\u001b[0margs\u001b[0m\u001b[1;33m=\u001b[0m\u001b[0mlocals\u001b[0m\u001b[1;33m(\u001b[0m\u001b[1;33m)\u001b[0m\u001b[1;33m,\u001b[0m \u001b[0mconstructor\u001b[0m\u001b[1;33m=\u001b[0m\u001b[0mgo\u001b[0m\u001b[1;33m.\u001b[0m\u001b[0mScatter\u001b[0m\u001b[1;33m)\u001b[0m\u001b[1;33m\u001b[0m\u001b[1;33m\u001b[0m\u001b[0m\n\u001b[0m\u001b[0;32m     67\u001b[0m \u001b[1;33m\u001b[0m\u001b[0m\n\u001b[0;32m     68\u001b[0m \u001b[1;33m\u001b[0m\u001b[0m\n",
      "\u001b[1;32mc:\\Users\\user\\anaconda3\\lib\\site-packages\\plotly\\express\\_core.py\u001b[0m in \u001b[0;36mmake_figure\u001b[1;34m(args, constructor, trace_patch, layout_patch)\u001b[0m\n\u001b[0;32m   1988\u001b[0m     \u001b[0mapply_default_cascade\u001b[0m\u001b[1;33m(\u001b[0m\u001b[0margs\u001b[0m\u001b[1;33m)\u001b[0m\u001b[1;33m\u001b[0m\u001b[1;33m\u001b[0m\u001b[0m\n\u001b[0;32m   1989\u001b[0m \u001b[1;33m\u001b[0m\u001b[0m\n\u001b[1;32m-> 1990\u001b[1;33m     \u001b[0margs\u001b[0m \u001b[1;33m=\u001b[0m \u001b[0mbuild_dataframe\u001b[0m\u001b[1;33m(\u001b[0m\u001b[0margs\u001b[0m\u001b[1;33m,\u001b[0m \u001b[0mconstructor\u001b[0m\u001b[1;33m)\u001b[0m\u001b[1;33m\u001b[0m\u001b[1;33m\u001b[0m\u001b[0m\n\u001b[0m\u001b[0;32m   1991\u001b[0m     \u001b[1;32mif\u001b[0m \u001b[0mconstructor\u001b[0m \u001b[1;32min\u001b[0m \u001b[1;33m[\u001b[0m\u001b[0mgo\u001b[0m\u001b[1;33m.\u001b[0m\u001b[0mTreemap\u001b[0m\u001b[1;33m,\u001b[0m \u001b[0mgo\u001b[0m\u001b[1;33m.\u001b[0m\u001b[0mSunburst\u001b[0m\u001b[1;33m,\u001b[0m \u001b[0mgo\u001b[0m\u001b[1;33m.\u001b[0m\u001b[0mIcicle\u001b[0m\u001b[1;33m]\u001b[0m \u001b[1;32mand\u001b[0m \u001b[0margs\u001b[0m\u001b[1;33m[\u001b[0m\u001b[1;34m\"path\"\u001b[0m\u001b[1;33m]\u001b[0m \u001b[1;32mis\u001b[0m \u001b[1;32mnot\u001b[0m \u001b[1;32mNone\u001b[0m\u001b[1;33m:\u001b[0m\u001b[1;33m\u001b[0m\u001b[1;33m\u001b[0m\u001b[0m\n\u001b[0;32m   1992\u001b[0m         \u001b[0margs\u001b[0m \u001b[1;33m=\u001b[0m \u001b[0mprocess_dataframe_hierarchy\u001b[0m\u001b[1;33m(\u001b[0m\u001b[0margs\u001b[0m\u001b[1;33m)\u001b[0m\u001b[1;33m\u001b[0m\u001b[1;33m\u001b[0m\u001b[0m\n",
      "\u001b[1;32mc:\\Users\\user\\anaconda3\\lib\\site-packages\\plotly\\express\\_core.py\u001b[0m in \u001b[0;36mbuild_dataframe\u001b[1;34m(args, constructor)\u001b[0m\n\u001b[0;32m   1450\u001b[0m                 \u001b[0mdtype\u001b[0m \u001b[1;33m=\u001b[0m \u001b[0mv_dtype\u001b[0m\u001b[1;33m\u001b[0m\u001b[1;33m\u001b[0m\u001b[0m\n\u001b[0;32m   1451\u001b[0m             \u001b[1;32melif\u001b[0m \u001b[0mdtype\u001b[0m \u001b[1;33m!=\u001b[0m \u001b[0mv_dtype\u001b[0m\u001b[1;33m:\u001b[0m\u001b[1;33m\u001b[0m\u001b[1;33m\u001b[0m\u001b[0m\n\u001b[1;32m-> 1452\u001b[1;33m                 raise ValueError(\n\u001b[0m\u001b[0;32m   1453\u001b[0m                     \u001b[1;34m\"Plotly Express cannot process wide-form data with columns of different type.\"\u001b[0m\u001b[1;33m\u001b[0m\u001b[1;33m\u001b[0m\u001b[0m\n\u001b[0;32m   1454\u001b[0m                 )\n",
      "\u001b[1;31mValueError\u001b[0m: Plotly Express cannot process wide-form data with columns of different type."
     ]
    }
   ],
   "source": [
    "#8\n",
    "%matplotlib inline\n",
    "feature = []\n",
    "for i in range(3):\n",
    "    for j in range(0,4):\n",
    "        fig = px.scatter(iris_df, x='sepal_length', y=iris_df.columns,\n",
    "                         color='species', title='Scatter Plot')\n",
    "        fig.show()"
   ]
  }
 ],
 "metadata": {
  "kernelspec": {
   "display_name": "base",
   "language": "python",
   "name": "python3"
  },
  "language_info": {
   "codemirror_mode": {
    "name": "ipython",
    "version": 3
   },
   "file_extension": ".py",
   "mimetype": "text/x-python",
   "name": "python",
   "nbconvert_exporter": "python",
   "pygments_lexer": "ipython3",
   "version": "3.9.13"
  },
  "orig_nbformat": 4
 },
 "nbformat": 4,
 "nbformat_minor": 2
}
