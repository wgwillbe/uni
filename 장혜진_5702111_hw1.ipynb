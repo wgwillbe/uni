{
 "cells": [
  {
   "cell_type": "code",
   "execution_count": 3,
   "metadata": {},
   "outputs": [
    {
     "name": "stdout",
     "output_type": "stream",
     "text": [
      "[[ 0.  1.  0.  0. 12.]\n",
      " [ 0.  0.  0.  1. 10.]\n",
      " [ 1.  0.  0.  0. 15.]\n",
      " [ 0.  0.  1.  0.  9.]]\n",
      "  (0, 1)\t1.0\n",
      "  (0, 4)\t12.0\n",
      "  (1, 3)\t1.0\n",
      "  (1, 4)\t10.0\n",
      "  (2, 0)\t1.0\n",
      "  (2, 4)\t15.0\n",
      "  (3, 2)\t1.0\n",
      "  (3, 4)\t9.0\n",
      "['city=Busan', 'city=Daegu', 'city=Incheon', 'city=Seoul', 'temp']\n"
     ]
    }
   ],
   "source": [
    "#1\n",
    "from sklearn.feature_extraction import DictVectorizer\n",
    "x = [{'city' : 'Daegu','temp':12},\n",
    "     {'city' : 'Seoul','temp':10},\n",
    "     {'city' : 'Busan','temp':15},\n",
    "     {'city' : 'Incheon','temp':9}]\n",
    "vec = DictVectorizer(sparse=False)\n",
    "x1 = vec.fit_transform(x)\n",
    "vec = DictVectorizer(sparse=True)\n",
    "x2 = vec.fit_transform(x)\n",
    "print(x1)\n",
    "print(x2)\n",
    "print(vec.get_feature_names())"
   ]
  },
  {
   "cell_type": "code",
   "execution_count": 18,
   "metadata": {},
   "outputs": [
    {
     "name": "stdout",
     "output_type": "stream",
     "text": [
      "      a    b     c     d\n",
      "0     1    2     3  None\n",
      "1     5  NaN     7     6\n",
      "2  None    2     9     1\n",
      "3     5  NaN     3     2\n",
      "4     2    6  None     6\n",
      "   a  b  c  d\n",
      "0  1  2  3  6\n",
      "1  5  2  7  6\n",
      "2  5  2  9  1\n",
      "3  5  2  3  2\n",
      "4  2  6  3  6\n"
     ]
    }
   ],
   "source": [
    "#2\n",
    "import numpy as np\n",
    "import pandas as pd\n",
    "x_miss = np.array([[1,2,3,None],[5,np.NaN,7,6],\n",
    "                  [None,2,9,1],[5,np.NaN,3,2],[2,,None,6]])\n",
    "x_m = pd.DataFrame(x_miss, columns=list('abcd'))\n",
    "print(x_m)\n",
    "for col in x_m.columns:\n",
    "    x_m[col] = x_m[col].fillna(x_m[col].mode()[0])\n",
    "print(x_m)"
   ]
  },
  {
   "cell_type": "code",
   "execution_count": 33,
   "metadata": {},
   "outputs": [
    {
     "name": "stdout",
     "output_type": "stream",
     "text": [
      "      a    b     c     d\n",
      "0     1    2     3  None\n",
      "1     5  NaN     7     6\n",
      "2  None    2     9     1\n",
      "3     5  NaN     3     2\n",
      "4     2    5  None     6\n",
      "      a    b    c     d\n",
      "0  1.00  2.0  3.0  3.75\n",
      "1  5.00  3.0  7.0  6.00\n",
      "2  3.25  2.0  9.0  1.00\n",
      "3  5.00  3.0  3.0  2.00\n",
      "4  2.00  5.0  5.5  6.00\n"
     ]
    }
   ],
   "source": [
    "#3\n",
    "import numpy as np\n",
    "import pandas as pd\n",
    "from sklearn.impute import SimpleImputer\n",
    "x_miss = np.array([[1,2,3,None],[5,np.NaN,7,6],\n",
    "                  [None,2,9,1],[5,np.NaN,3,2],[2,5,None,6]])\n",
    "x_m = pd.DataFrame(x_miss, columns=list('abcd'))\n",
    "print(x_m)\n",
    "im = SimpleImputer(strategy='mean')\n",
    "x_m = im.fit_transform(x_miss)\n",
    "x_m = pd.DataFrame(x_m,columns=list('abcd'))\n",
    "print(x_m)"
   ]
  },
  {
   "cell_type": "code",
   "execution_count": 34,
   "metadata": {},
   "outputs": [
    {
     "name": "stdout",
     "output_type": "stream",
     "text": [
      "Original dataset shape Counter Counter({2: 1685, 1: 145, 3: 105, 0: 65})\n"
     ]
    }
   ],
   "source": [
    "#4\n",
    "from collections import Counter\n",
    "from sklearn.datasets import make_classification\n",
    "from imblearn.over_sampling import SMOTE, ADASYN\n",
    "X, y = make_classification(n_classes=4,\n",
    "                           weights=[0.03,0.07,0.85,0.05], n_features=10,\n",
    "                           n_clusters_per_class=1, n_samples=2000, random_state=10)\n",
    "print('Original dataset shape Counter %s' % Counter(y))"
   ]
  }
 ],
 "metadata": {
  "kernelspec": {
   "display_name": "base",
   "language": "python",
   "name": "python3"
  },
  "language_info": {
   "codemirror_mode": {
    "name": "ipython",
    "version": 3
   },
   "file_extension": ".py",
   "mimetype": "text/x-python",
   "name": "python",
   "nbconvert_exporter": "python",
   "pygments_lexer": "ipython3",
   "version": "3.9.13"
  },
  "orig_nbformat": 4
 },
 "nbformat": 4,
 "nbformat_minor": 2
}
