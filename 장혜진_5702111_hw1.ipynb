{
 "cells": [
  {
   "cell_type": "code",
   "execution_count": 2,
   "metadata": {},
   "outputs": [
    {
     "name": "stdout",
     "output_type": "stream",
     "text": [
      "[[ 1.  0.  0.  0. 12.]\n",
      " [ 0.  1.  0.  0. 10.]\n",
      " [ 0.  0.  1.  0. 15.]\n",
      " [ 0.  0.  0.  1.  9.]]\n",
      "  (0, 0)\t1.0\n",
      "  (0, 4)\t12.0\n",
      "  (1, 1)\t1.0\n",
      "  (1, 4)\t10.0\n",
      "  (2, 2)\t1.0\n",
      "  (2, 4)\t15.0\n",
      "  (3, 3)\t1.0\n",
      "  (3, 4)\t9.0\n",
      "['city=Busan', 'city=Daegu', 'city=Incheon', 'city=Seoul', 'temp']\n"
     ]
    },
    {
     "name": "stderr",
     "output_type": "stream",
     "text": [
      "c:\\Users\\user\\anaconda3\\lib\\site-packages\\sklearn\\utils\\deprecation.py:87: FutureWarning: Function get_feature_names is deprecated; get_feature_names is deprecated in 1.0 and will be removed in 1.2. Please use get_feature_names_out instead.\n",
      "  warnings.warn(msg, category=FutureWarning)\n"
     ]
    }
   ],
   "source": [
    "#1\n",
    "from sklearn.feature_extraction import DictVectorizer\n",
    "x = [{'city' : 'Busan','temp':12},\n",
    "     {'city' : 'Daegu','temp':10},\n",
    "     {'city' : 'Incheon','temp':15},\n",
    "     {'city' : 'Seoul','temp':9}]\n",
    "vec = DictVectorizer(sparse=False)\n",
    "x1 = vec.fit_transform(x)\n",
    "vec = DictVectorizer(sparse=True)\n",
    "x2 = vec.fit_transform(x)\n",
    "print(x1)\n",
    "print(x2)\n",
    "print(vec.get_feature_names())"
   ]
  }
 ],
 "metadata": {
  "kernelspec": {
   "display_name": "base",
   "language": "python",
   "name": "python3"
  },
  "language_info": {
   "codemirror_mode": {
    "name": "ipython",
    "version": 3
   },
   "file_extension": ".py",
   "mimetype": "text/x-python",
   "name": "python",
   "nbconvert_exporter": "python",
   "pygments_lexer": "ipython3",
   "version": "3.9.13"
  },
  "orig_nbformat": 4
 },
 "nbformat": 4,
 "nbformat_minor": 2
}
